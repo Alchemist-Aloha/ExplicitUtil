{
 "cells": [
  {
   "cell_type": "markdown",
   "metadata": {},
   "source": [
    "# Transcribe the video and generate subtitle file"
   ]
  },
  {
   "cell_type": "code",
   "execution_count": null,
   "metadata": {},
   "outputs": [],
   "source": [
    "from pathlib import Path\n",
    "from explicit_util import whisper_cpp_transcribe\n",
    "video_folder = Path(r\"D:\\your\\video\\folder\")\n",
    "whisper_cpp_root = Path(r\"E:\\your\\whisper.cpp\")\n",
    "whisper_cpp_transcribe.process_videos(video_folder,whisper_cpp_root, suffix='.mp4')"
   ]
  },
  {
   "cell_type": "markdown",
   "metadata": {},
   "source": [
    "# Convert to webp"
   ]
  },
  {
   "cell_type": "code",
   "execution_count": null,
   "metadata": {},
   "outputs": [],
   "source": [
    "from explicit_util import convert_heic_to_webp\n",
    "\n",
    "folder_to_process = r\"D:\\your\\pictures\\folder\"\n",
    "convert_heic_to_webp.convert_heic_to_webp_multithreaded(folder_to_process, 4, 4)"
   ]
  },
  {
   "cell_type": "markdown",
   "metadata": {},
   "source": [
    "# Use namer to rename clips"
   ]
  },
  {
   "cell_type": "code",
   "execution_count": null,
   "metadata": {},
   "outputs": [],
   "source": [
    "from explicit_util import recursive_namer\n",
    "\n",
    "ROOT_DIR = Path(r\"D:\\your\\video\\folder\")\n",
    "NAMER_CONFIG = \".namer.cfg\"\n",
    "\n",
    "recursive_namer.process_video_files(ROOT_DIR, NAMER_CONFIG, suffix=(\".m4v\", \".mp4\"),endswith=(\"h265\",\"subtitled\"))"
   ]
  },
  {
   "cell_type": "markdown",
   "metadata": {},
   "source": [
    "# Zip and move the archive to backup location"
   ]
  },
  {
   "cell_type": "code",
   "execution_count": null,
   "metadata": {},
   "outputs": [],
   "source": [
    "from explicit_util import zip_and_move\n",
    "from pathlib import Path\n",
    "\n",
    "source_folder = Path(r\"D:\\your\\pictures\\folder\")\n",
    "destination_folder = Path(r\"E:\\your\\archives\\folder\")\n",
    "\n",
    "zip_and_move.zip_and_move(source_folder, destination_folder)"
   ]
  },
  {
   "cell_type": "markdown",
   "metadata": {},
   "source": [
    "# Recursive unzip"
   ]
  },
  {
   "cell_type": "code",
   "execution_count": null,
   "metadata": {},
   "outputs": [],
   "source": [
    "from explicit_util import recursive_unzip\n",
    "from pathlib import Path\n",
    "\n",
    "source_folder = Path(r\"D:\\your\\pictures\")\n",
    "\n",
    "recursive_unzip.recursive_unzip(source_folder, delete_zips = False)"
   ]
  }
 ],
 "metadata": {
  "kernelspec": {
   "display_name": ".venv",
   "language": "python",
   "name": "python3"
  },
  "language_info": {
   "codemirror_mode": {
    "name": "ipython",
    "version": 3
   },
   "file_extension": ".py",
   "mimetype": "text/x-python",
   "name": "python",
   "nbconvert_exporter": "python",
   "pygments_lexer": "ipython3",
   "version": "3.13.2"
  }
 },
 "nbformat": 4,
 "nbformat_minor": 2
}
