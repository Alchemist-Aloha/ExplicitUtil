{
 "cells": [
  {
   "cell_type": "markdown",
   "metadata": {},
   "source": [
    "# Transcribe the video and generate subtitle file\n"
   ]
  },
  {
   "cell_type": "code",
   "execution_count": null,
   "metadata": {},
   "outputs": [],
   "source": [
    "import explicit_util.whisper_cpp_transcribe as whisper_cpp_transcribe\n",
    "\n",
    "video_folder = r\"D:\\your\\video\\folder\"\n",
    "whisper_cpp_root = r\"E:\\your\\whisper.cpp\"\n",
    "whisper_cpp_transcribe.run_batch_transcribe(video_folder, whisper_cpp_root, suffix=('.mp4',))\n",
    "\n",
    "# Alternatively, you can use the following command in the terminal:\n",
    "# python -m explicit_util.whisper_cpp_transcribe"
   ]
  },
  {
   "cell_type": "markdown",
   "metadata": {},
   "source": [
    "# Convert to webp\n"
   ]
  },
  {
   "cell_type": "code",
   "execution_count": null,
   "metadata": {},
   "outputs": [],
   "source": [
    "from explicit_util.convert_pic_to_webp import convert_pic_to_webp_multithreaded\n",
    "\n",
    "folder_to_process = r\"D:\\your\\pictures\\folder\"\n",
    "convert_pic_to_webp_multithreaded(folder_to_process, 4, 4)\n",
    "\n",
    "# Multiprocessing doesn't work well in Jupyter Notebook, so it's better to run this in a script.\n",
    "# Alternatively, you can use the following command in the terminal:\n",
    "# python -m explicit_util.convert_pic_to_webp"
   ]
  },
  {
   "cell_type": "markdown",
   "metadata": {},
   "source": [
    "# Use namer to rename clips\n"
   ]
  },
  {
   "cell_type": "code",
   "execution_count": null,
   "metadata": {},
   "outputs": [],
   "source": [
    "\n",
    "from explicit_util.recursive_namer import process_video_files\n",
    "\n",
    "ROOT_DIR = r\"D:\\your\\video\\folder\"\n",
    "NAMER_CONFIG = \".namer.cfg\"\n",
    "\n",
    "process_video_files(\n",
    "    ROOT_DIR, NAMER_CONFIG, suffix=(\".m4v\", \".mp4\"), endswith=(\"h265\", \"subtitled\")\n",
    ")"
   ]
  },
  {
   "cell_type": "markdown",
   "metadata": {},
   "source": [
    "# Zip and move the archive to backup location\n"
   ]
  },
  {
   "cell_type": "code",
   "execution_count": null,
   "metadata": {},
   "outputs": [],
   "source": [
    "from explicit_util.zip_and_move import zip_and_move\n",
    "\n",
    "source_folder = r\"D:\\your\\pictures\\folder\"\n",
    "destination_folder = r\"E:\\your\\archives\\folder\"\n",
    "\n",
    "zip_and_move(source_folder, destination_folder)"
   ]
  },
  {
   "cell_type": "code",
   "execution_count": null,
   "metadata": {},
   "outputs": [],
   "source": [
    "# Alternatively, you can run the following code to utilize async processing\n",
    "# Asynchronous processing is faster for IO bound tasks\n",
    "# This requires larger free space on the source drive (larger than the size of the source folder)\n",
    "import asyncio\n",
    "import nest_asyncio\n",
    "from explicit_util.zip_and_move import async_zip_and_move\n",
    "\n",
    "source_folder = r\"D:\\your\\pictures\\folder\"\n",
    "destination_folder = r\"E:\\your\\archives\\folder\"\n",
    "\n",
    "nest_asyncio.apply()\n",
    "\n",
    "await async_zip_and_move(source_folder, destination_folder)"
   ]
  },
  {
   "cell_type": "markdown",
   "metadata": {},
   "source": [
    "# Recursive unzip\n"
   ]
  },
  {
   "cell_type": "code",
   "execution_count": null,
   "metadata": {},
   "outputs": [],
   "source": [
    "from explicit_util.recursive_unzip import recursive_unzip\n",
    "\n",
    "\n",
    "source_folder = r\"D:\\your\\pictures\"\n",
    "\n",
    "recursive_unzip(source_folder, delete_zips=False)"
   ]
  },
  {
   "cell_type": "markdown",
   "metadata": {},
   "source": [
    "# Generate .nfo files and add metadata entry recursively\n"
   ]
  },
  {
   "cell_type": "code",
   "execution_count": null,
   "metadata": {},
   "outputs": [],
   "source": [
    "from explicit_util.nfo_tool import generate_nfo, batch_add_attribute\n",
    "\n",
    "media_folder = r\"D:\\your\\video\\folder\"  # Replace with your media folder\n",
    "nfo_output_folder = media_folder\n",
    "\n",
    "generate_nfo(media_folder, \"movie\", nfo_output_folder)\n",
    "batch_add_attribute(nfo_output_folder, \"studio\", \"studio_name\")\n",
    "batch_add_attribute(nfo_output_folder, \"genre\", \"genre_name\")\n",
    "batch_add_attribute(nfo_output_folder, \"actor\", \"actor_name\", role=\"role_name\")"
   ]
  }
 ],
 "metadata": {
  "kernelspec": {
   "display_name": ".venv",
   "language": "python",
   "name": "python3"
  },
  "language_info": {
   "codemirror_mode": {
    "name": "ipython",
    "version": 3
   },
   "file_extension": ".py",
   "mimetype": "text/x-python",
   "name": "python",
   "nbconvert_exporter": "python",
   "pygments_lexer": "ipython3",
   "version": "3.12.9"
  }
 },
 "nbformat": 4,
 "nbformat_minor": 2
}
